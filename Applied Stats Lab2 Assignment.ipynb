{
 "cells": [
  {
   "cell_type": "markdown",
   "metadata": {},
   "source": [
    "# Question 1"
   ]
  },
  {
   "cell_type": "code",
   "execution_count": 33,
   "metadata": {},
   "outputs": [],
   "source": [
    "from scipy.stats import beta\n",
    "import numpy as np\n",
    "import seaborn as sns\n",
    "import matplotlib.pyplot as plt"
   ]
  },
  {
   "cell_type": "code",
   "execution_count": 34,
   "metadata": {},
   "outputs": [
    {
     "data": {
      "text/plain": [
       "0.599334716796875"
      ]
     },
     "execution_count": 34,
     "metadata": {},
     "output_type": "execute_result"
    }
   ],
   "source": [
    "# General concept about how to find the area between two intervals.\n",
    "a, b = 3, 7\n",
    "z = beta.cdf(0.75, a, b)\n",
    "y = beta.cdf(0.25,a,b)\n",
    "\n",
    "z-y"
   ]
  },
  {
   "cell_type": "markdown",
   "metadata": {},
   "source": [
    "Parameters for Beta are `(3,7)`\n",
    "The mass of the interval e.g. [0,1], is the cdf for 1 subtract the cdf for 0"
   ]
  },
  {
   "cell_type": "code",
   "execution_count": 35,
   "metadata": {},
   "outputs": [],
   "source": [
    "def beta_measure(a,b): # Defining the Beta Measure\n",
    "    # Define parameters c and d\n",
    "    c = 3 \n",
    "    d = 7\n",
    "    # Define the cdf function so we can subtract to find area under curve\n",
    "    cdf1 = beta.cdf(a,c,d)\n",
    "    cdf2 = beta.cdf(b,c,d)\n",
    "    return cdf2 - cdf1"
   ]
  },
  {
   "cell_type": "code",
   "execution_count": 36,
   "metadata": {},
   "outputs": [
    {
     "name": "stdout",
     "output_type": "stream",
     "text": [
      "Probability Mass Function =  1.0\n",
      "Probability Mass Function =  0.0\n",
      "Probability Mass Function =  0.599334716796875\n",
      "Probability Mass Function =  0.91015625\n",
      "Probability Mass Function =  0.08984375\n"
     ]
    }
   ],
   "source": [
    "# Define a value for each interval\n",
    "q_a = beta_measure(0,1)\n",
    "q_b = beta_measure(0,0)\n",
    "q_c = beta_measure(0.25,0.75)\n",
    "q_d = beta_measure(0,0.5)\n",
    "q_e = beta_measure(0.5,1)\n",
    "\n",
    "questions = [q_a,q_b,q_c,q_d,q_e]\n",
    "for question in questions:\n",
    "    print(f\"Probability Mass Function = \",question)"
   ]
  },
  {
   "cell_type": "markdown",
   "metadata": {},
   "source": [
    "Plotting the PDF for `Beta(3,7)`"
   ]
  },
  {
   "cell_type": "code",
   "execution_count": 37,
   "metadata": {},
   "outputs": [
    {
     "data": {
      "text/plain": [
       "<matplotlib.lines.Line2D at 0x7fdb4a1ef100>"
      ]
     },
     "execution_count": 37,
     "metadata": {},
     "output_type": "execute_result"
    },
    {
     "data": {
      "image/png": "[encoded data removed]",
      "text/plain": [
       "<Figure size 432x288 with 1 Axes>"
      ]
     },
     "metadata": {},
     "output_type": "display_data"
    }
   ],
   "source": [
    "# Creating 10000 equally spaced numbers to plot the pdf of Beta (3,7)\n",
    "x = np.linspace(0,1,10000) \n",
    "pdf = beta.pdf(x, 3, 7)\n",
    "\n",
    "plt.style.use('fivethirtyeight')\n",
    "plt.plot(x, pdf, 'b')\n",
    "plt.title('PDF of Beta(3,7)')\n",
    "plt.axvline(x=0.5, linestyle = '--')"
   ]
  },
  {
   "cell_type": "markdown",
   "metadata": {},
   "source": [
    "Yes the Probability masses match up with the PDF. For example, interval `[0,1] = 1`, covers the whole area of the curve. The interval of `[0,0.5]` accounts for the majority of the probability and we can see this in the curve as it is positiviely skewed and the area underneath the curve up until the dashed line from 0.5."
   ]
  },
  {
   "cell_type": "markdown",
   "metadata": {},
   "source": [
    "# Question 2"
   ]
  },
  {
   "cell_type": "code",
   "execution_count": 38,
   "metadata": {},
   "outputs": [],
   "source": [
    "import scipy.integrate as integrate"
   ]
  },
  {
   "cell_type": "code",
   "execution_count": 39,
   "metadata": {},
   "outputs": [],
   "source": [
    "# Defining our function for beta_pdf\n",
    "def beta_pdf(x):\n",
    "    c = 3\n",
    "    d = 7\n",
    "    pdf = beta.pdf(x,c,d)\n",
    "    return pdf"
   ]
  },
  {
   "cell_type": "code",
   "execution_count": 40,
   "metadata": {},
   "outputs": [
    {
     "name": "stdout",
     "output_type": "stream",
     "text": [
      "Integral for =  1.0\n",
      "Integral for =  0.0\n",
      "Integral for =  0.5993347167968751\n",
      "Integral for =  0.9101562499999999\n",
      "Integral for =  0.08984374999999997\n"
     ]
    }
   ],
   "source": [
    "# Using f(x), as for the quad function we only need a place holder for the function (beta_pdf) we apply to x.\n",
    "def f(x):\n",
    "    return beta_pdf(x)\n",
    "\n",
    "q2_a = integrate.quad(f, 0,1) # will take the f defined as beta_pdf and then pass through the values of x we defined by the limits.\n",
    "q2_b = integrate.quad(f, 0,0)\n",
    "q2_c = integrate.quad(f, 0.25,0.75)\n",
    "q2_d = integrate.quad(f, 0,0.5)\n",
    "q2_e = integrate.quad(f, 0.5,1)\n",
    "\n",
    "\n",
    "questions = [q2_a,q2_b,q2_c,q2_d,q2_e]\n",
    "for question in questions:\n",
    "    print(f\"Integral for = \",question[0])"
   ]
  },
  {
   "cell_type": "markdown",
   "metadata": {},
   "source": [
    "As you see above, the intergral values for the defined limits are identical to the probability masses computed in Question 1. This is because the integral of a PDF derives the CDF, with respect the defined limits."
   ]
  },
  {
   "cell_type": "markdown",
   "metadata": {},
   "source": [
    "# Question 3"
   ]
  },
  {
   "cell_type": "markdown",
   "metadata": {},
   "source": [
    "The support for `Beta(3,7)` and `Beta(7,3)` are the same at [0,1]. When summing `Beta(3,7)` and `Beta(7,3)` the support becomes [0,1,2]. This is because t can take values between 0 and 1, whilst `2 - t` takes values between 1 and 2."
   ]
  },
  {
   "cell_type": "code",
   "execution_count": 41,
   "metadata": {},
   "outputs": [],
   "source": [
    "# Here we have to defind two seperate PDF functions for Beta.\n",
    "def beta_pdf_1(x):\n",
    "    c = 3\n",
    "    d = 7\n",
    "    pdf = beta.pdf(x,c,d)\n",
    "    return pdf\n",
    "\n",
    "def beta_pdf_2(x):\n",
    "    c = 7\n",
    "    d = 3\n",
    "    pdf = beta.pdf(x,c,d)\n",
    "    return pdf"
   ]
  },
  {
   "cell_type": "code",
   "execution_count": 42,
   "metadata": {},
   "outputs": [],
   "source": [
    "# Then we defind the intergand by x, the placeholders for our functions f1 and f2 and the t value.\n",
    "def integrand(x, f1, f2, t):\n",
    "    return f1(x)*f2(t-x)"
   ]
  },
  {
   "cell_type": "code",
   "execution_count": 43,
   "metadata": {},
   "outputs": [
    {
     "name": "stdout",
     "output_type": "stream",
     "text": [
      "0.0\n",
      "7.877306756648536e-14\n",
      "6.953875697935422e-11\n",
      "2.2351644345551265e-09\n",
      "2.845671855137813e-08\n",
      "1.9821228161985785e-07\n",
      "9.555209830535592e-07\n",
      "3.572327583034246e-06\n",
      "1.1085871164125421e-05\n",
      "2.9834874636324073e-05\n",
      "7.174688648590836e-05\n",
      "0.0001574950143136613\n",
      "0.00032058950047012506\n",
      "0.0006124017379508888\n",
      "0.0011080400043001852\n",
      "0.0019129123056488432\n",
      "0.003169727264710335\n",
      "0.005065603789829974\n",
      "0.007838888708299834\n",
      "0.011785222635992576\n",
      "0.017262351293904684\n",
      "0.02469315533746064\n",
      "0.034566367293460576\n",
      "0.04743446411265862\n",
      "0.06390826355642248\n",
      "0.08464781840326539\n",
      "0.11034928988586029\n",
      "0.14172759190409198\n",
      "0.1794947293798766\n",
      "0.2243339061141906\n",
      "0.2768696484060597\n",
      "0.3376343787659589\n",
      "0.4070320778982375\n",
      "0.4852998905050872\n",
      "0.5724687602923931\n",
      "0.668324420069007\n",
      "0.7723703114960362\n",
      "0.8837942650422569\n",
      "1.0014410392883388\n",
      "1.1237930719315068\n",
      "1.2489620880695873\n",
      "1.374694466547255\n",
      "1.4983935524554912\n",
      "1.6171623811111695\n",
      "1.7278705570873536\n",
      "1.8272493137041335\n",
      "1.9120190595095352\n",
      "1.9790539996796324\n",
      "2.0255887020942867\n",
      "2.04947175965258\n",
      "2.049471764380395\n",
      "2.02558870239711\n",
      "1.9790539996740526\n",
      "1.912019059489119\n",
      "1.8272493136280115\n",
      "1.7278705570851065\n",
      "1.617162381125645\n",
      "1.4983935525356646\n",
      "1.3746944666075778\n",
      "1.2489620880856862\n",
      "1.123793071950424\n",
      "1.0014410393129942\n",
      "0.883794265158341\n",
      "0.7723703112580084\n",
      "0.6683244200622969\n",
      "0.5724687603404558\n",
      "0.48529989050515826\n",
      "0.4070320779059575\n",
      "0.3376343787776883\n",
      "0.27686964816746135\n",
      "0.22433390610894235\n",
      "0.17949472938555167\n",
      "0.14172759203345944\n",
      "0.11034928988734775\n",
      "0.08464781831494819\n",
      "0.06390826362363357\n",
      "0.047434464109178676\n",
      "0.034566367346123575\n",
      "0.024693155167655714\n",
      "0.0172623513225781\n",
      "0.01178522256814894\n",
      "0.007838888711937842\n",
      "0.005065603757828512\n",
      "0.0031697272634577675\n",
      "0.0019129122764759497\n",
      "0.0011080400099569997\n",
      "0.000612401735184575\n",
      "0.0003205895011708028\n",
      "0.00015749500018956482\n",
      "7.174689500090257e-05\n",
      "2.983490827286302e-05\n",
      "1.1085885452864065e-05\n",
      "0.0\n",
      "0.0\n",
      "0.0\n",
      "0.0\n",
      "0.0\n",
      "0.0\n",
      "0.0\n",
      "0.0\n"
     ]
    },
    {
     "data": {
      "text/plain": [
       "[<matplotlib.lines.Line2D at 0x7fdb30cf77c0>]"
      ]
     },
     "execution_count": 43,
     "metadata": {},
     "output_type": "execute_result"
    },
    {
     "data": {
      "image/png": "[encoded data removed]",
      "text/plain": [
       "<Figure size 432x288 with 1 Axes>"
      ]
     },
     "metadata": {},
     "output_type": "display_data"
    }
   ],
   "source": [
    "# Now we need to create a list of values between 0 and 2.\n",
    "# We make a loop for the list we created\n",
    "t_list = np.linspace(0,2, 100)\n",
    "i = []\n",
    "for t in t_list: # for every value in the list\n",
    "    f_1_2 = integrate.quad(integrand, 0, 2, args=(beta_pdf_1, beta_pdf_2, t))[0] # integrate the integrand with respects to x, using t = 0 and return the first value which is the integral.\n",
    "    print(f_1_2) # Print this number\n",
    "    i.append(f_1_2) # add this number to the list\n",
    "# The list will continue this process until the number of t's = 100\n",
    "plt.plot(t_list,i)"
   ]
  },
  {
   "cell_type": "code",
   "execution_count": 44,
   "metadata": {},
   "outputs": [
    {
     "data": {
      "text/plain": [
       "(array([  33.,  112.,  302.,  665., 1113., 1707., 2177., 2023., 1441.,\n",
       "         427.]),\n",
       " array([0.20062141, 0.27948613, 0.35835086, 0.43721559, 0.51608031,\n",
       "        0.59494504, 0.67380976, 0.75267449, 0.83153922, 0.91040394,\n",
       "        0.98926867]),\n",
       " <BarContainer object of 10 artists>)"
      ]
     },
     "execution_count": 44,
     "metadata": {},
     "output_type": "execute_result"
    },
    {
     "data": {
      "image/png": "[encoded data removed]",
      "text/plain": [
       "<Figure size 432x288 with 1 Axes>"
      ]
     },
     "metadata": {},
     "output_type": "display_data"
    }
   ],
   "source": [
    "seed = 40\n",
    "\n",
    "r1 = beta.rvs(3, 7, size=10000, random_state = seed)\n",
    "r2 = beta.rvs(7,3, size=10000, random_state = seed + 1)\n",
    "\n",
    "plt.hist(r1)\n",
    "plt.hist(r2)"
   ]
  },
  {
   "cell_type": "code",
   "execution_count": 45,
   "metadata": {},
   "outputs": [
    {
     "data": {
      "text/plain": [
       "[<matplotlib.lines.Line2D at 0x7fdb3ba43670>]"
      ]
     },
     "execution_count": 45,
     "metadata": {},
     "output_type": "execute_result"
    },
    {
     "data": {
      "image/png": "[encoded data removed]",
      "text/plain": [
       "<Figure size 432x288 with 1 Axes>"
      ]
     },
     "metadata": {},
     "output_type": "display_data"
    }
   ],
   "source": [
    "r_12 = r1+r2\n",
    "\n",
    "plt.hist(r_12, int(np.sqrt(10000)), density = True)\n",
    "\n",
    "plt.plot(t_list,i)\n",
    "\n"
   ]
  },
  {
   "cell_type": "markdown",
   "metadata": {},
   "source": [
    "The PDF exhibits the change in support from `[0,1]` to `[0,2]` after you sum both the Beta distributions and is centred around 1, rather than being positivily or negatively skewed, like their individual plots."
   ]
  },
  {
   "cell_type": "markdown",
   "metadata": {},
   "source": [
    "# Question 4"
   ]
  },
  {
   "cell_type": "code",
   "execution_count": 46,
   "metadata": {},
   "outputs": [],
   "source": [
    "import pandas_datareader as data"
   ]
  },
  {
   "cell_type": "code",
   "execution_count": 47,
   "metadata": {},
   "outputs": [],
   "source": [
    "my_data = data.DataReader('MSFT', 'yahoo', '2012-11-02', '2022-11-02')"
   ]
  },
  {
   "cell_type": "code",
   "execution_count": 48,
   "metadata": {},
   "outputs": [
    {
     "data": {
      "text/html": [
       "<div>\n",
       "<style scoped>\n",
       "    .dataframe tbody tr th:only-of-type {\n",
       "        vertical-align: middle;\n",
       "    }\n",
       "\n",
       "    .dataframe tbody tr th {\n",
       "        vertical-align: top;\n",
       "    }\n",
       "\n",
       "    .dataframe thead th {\n",
       "        text-align: right;\n",
       "    }\n",
       "</style>\n",
       "<table border=\"1\" class=\"dataframe\">\n",
       "  <thead>\n",
       "    <tr style=\"text-align: right;\">\n",
       "      <th></th>\n",
       "      <th>High</th>\n",
       "      <th>Low</th>\n",
       "      <th>Open</th>\n",
       "      <th>Close</th>\n",
       "      <th>Volume</th>\n",
       "      <th>Adj Close</th>\n",
       "    </tr>\n",
       "    <tr>\n",
       "      <th>Date</th>\n",
       "      <th></th>\n",
       "      <th></th>\n",
       "      <th></th>\n",
       "      <th></th>\n",
       "      <th></th>\n",
       "      <th></th>\n",
       "    </tr>\n",
       "  </thead>\n",
       "  <tbody>\n",
       "    <tr>\n",
       "      <th>2012-11-02</th>\n",
       "      <td>29.770000</td>\n",
       "      <td>29.330000</td>\n",
       "      <td>29.590000</td>\n",
       "      <td>29.500000</td>\n",
       "      <td>57131600.0</td>\n",
       "      <td>24.194626</td>\n",
       "    </tr>\n",
       "    <tr>\n",
       "      <th>2012-11-05</th>\n",
       "      <td>29.740000</td>\n",
       "      <td>29.330000</td>\n",
       "      <td>29.620001</td>\n",
       "      <td>29.629999</td>\n",
       "      <td>38070800.0</td>\n",
       "      <td>24.301241</td>\n",
       "    </tr>\n",
       "    <tr>\n",
       "      <th>2012-11-06</th>\n",
       "      <td>30.200001</td>\n",
       "      <td>29.610001</td>\n",
       "      <td>29.820000</td>\n",
       "      <td>29.860001</td>\n",
       "      <td>43401500.0</td>\n",
       "      <td>24.489876</td>\n",
       "    </tr>\n",
       "    <tr>\n",
       "      <th>2012-11-07</th>\n",
       "      <td>29.830000</td>\n",
       "      <td>29.049999</td>\n",
       "      <td>29.530001</td>\n",
       "      <td>29.080000</td>\n",
       "      <td>57871800.0</td>\n",
       "      <td>23.850157</td>\n",
       "    </tr>\n",
       "    <tr>\n",
       "      <th>2012-11-08</th>\n",
       "      <td>29.370001</td>\n",
       "      <td>28.799999</td>\n",
       "      <td>29.120001</td>\n",
       "      <td>28.809999</td>\n",
       "      <td>49841800.0</td>\n",
       "      <td>23.628710</td>\n",
       "    </tr>\n",
       "    <tr>\n",
       "      <th>...</th>\n",
       "      <td>...</td>\n",
       "      <td>...</td>\n",
       "      <td>...</td>\n",
       "      <td>...</td>\n",
       "      <td>...</td>\n",
       "      <td>...</td>\n",
       "    </tr>\n",
       "    <tr>\n",
       "      <th>2022-10-27</th>\n",
       "      <td>233.690002</td>\n",
       "      <td>225.779999</td>\n",
       "      <td>231.039993</td>\n",
       "      <td>226.750000</td>\n",
       "      <td>40424600.0</td>\n",
       "      <td>226.750000</td>\n",
       "    </tr>\n",
       "    <tr>\n",
       "      <th>2022-10-28</th>\n",
       "      <td>236.600006</td>\n",
       "      <td>226.050003</td>\n",
       "      <td>226.240005</td>\n",
       "      <td>235.869995</td>\n",
       "      <td>40647700.0</td>\n",
       "      <td>235.869995</td>\n",
       "    </tr>\n",
       "    <tr>\n",
       "      <th>2022-10-31</th>\n",
       "      <td>234.919998</td>\n",
       "      <td>231.149994</td>\n",
       "      <td>233.759995</td>\n",
       "      <td>232.130005</td>\n",
       "      <td>28357300.0</td>\n",
       "      <td>232.130005</td>\n",
       "    </tr>\n",
       "    <tr>\n",
       "      <th>2022-11-01</th>\n",
       "      <td>235.740005</td>\n",
       "      <td>227.330002</td>\n",
       "      <td>234.600006</td>\n",
       "      <td>228.169998</td>\n",
       "      <td>30592300.0</td>\n",
       "      <td>228.169998</td>\n",
       "    </tr>\n",
       "    <tr>\n",
       "      <th>2022-11-02</th>\n",
       "      <td>231.300003</td>\n",
       "      <td>220.039993</td>\n",
       "      <td>229.460007</td>\n",
       "      <td>220.100006</td>\n",
       "      <td>38407000.0</td>\n",
       "      <td>220.100006</td>\n",
       "    </tr>\n",
       "  </tbody>\n",
       "</table>\n",
       "<p>2518 rows × 6 columns</p>\n",
       "</div>"
      ],
      "text/plain": [
       "                  High         Low        Open       Close      Volume  \\\n",
       "Date                                                                     \n",
       "2012-11-02   29.770000   29.330000   29.590000   29.500000  57131600.0   \n",
       "2012-11-05   29.740000   29.330000   29.620001   29.629999  38070800.0   \n",
       "2012-11-06   30.200001   29.610001   29.820000   29.860001  43401500.0   \n",
       "2012-11-07   29.830000   29.049999   29.530001   29.080000  57871800.0   \n",
       "2012-11-08   29.370001   28.799999   29.120001   28.809999  49841800.0   \n",
       "...                ...         ...         ...         ...         ...   \n",
       "2022-10-27  233.690002  225.779999  231.039993  226.750000  40424600.0   \n",
       "2022-10-28  236.600006  226.050003  226.240005  235.869995  40647700.0   \n",
       "2022-10-31  234.919998  231.149994  233.759995  232.130005  28357300.0   \n",
       "2022-11-01  235.740005  227.330002  234.600006  228.169998  30592300.0   \n",
       "2022-11-02  231.300003  220.039993  229.460007  220.100006  38407000.0   \n",
       "\n",
       "             Adj Close  \n",
       "Date                    \n",
       "2012-11-02   24.194626  \n",
       "2012-11-05   24.301241  \n",
       "2012-11-06   24.489876  \n",
       "2012-11-07   23.850157  \n",
       "2012-11-08   23.628710  \n",
       "...                ...  \n",
       "2022-10-27  226.750000  \n",
       "2022-10-28  235.869995  \n",
       "2022-10-31  232.130005  \n",
       "2022-11-01  228.169998  \n",
       "2022-11-02  220.100006  \n",
       "\n",
       "[2518 rows x 6 columns]"
      ]
     },
     "execution_count": 48,
     "metadata": {},
     "output_type": "execute_result"
    }
   ],
   "source": [
    "my_data"
   ]
  },
  {
   "cell_type": "code",
   "execution_count": 49,
   "metadata": {},
   "outputs": [
    {
     "data": {
      "text/plain": [
       "(0.0, 300.0)"
      ]
     },
     "execution_count": 49,
     "metadata": {},
     "output_type": "execute_result"
    },
    {
     "data": {
      "image/png": "[encoded data removed]",
      "text/plain": [
       "<Figure size 432x288 with 1 Axes>"
      ]
     },
     "metadata": {},
     "output_type": "display_data"
    }
   ],
   "source": [
    "# Creating a ratio between close_t and close_t-1\n",
    "perc_d_returns = my_data['Close']/my_data['Close'].shift(periods = 1)\n",
    "\n",
    "returns = 100*(perc_d_returns - 1)\n",
    "\n",
    "plt.hist(returns, bins= 100)\n",
    "plt.ylim(0,300)"
   ]
  },
  {
   "cell_type": "code",
   "execution_count": 50,
   "metadata": {},
   "outputs": [],
   "source": [
    "from scipy.stats import norm, kurtosis"
   ]
  },
  {
   "cell_type": "code",
   "execution_count": 51,
   "metadata": {},
   "outputs": [
    {
     "data": {
      "text/plain": [
       "8.8078003169076"
      ]
     },
     "execution_count": 51,
     "metadata": {},
     "output_type": "execute_result"
    }
   ],
   "source": [
    "k = kurtosis(returns, nan_policy='omit')\n",
    "k"
   ]
  },
  {
   "cell_type": "markdown",
   "metadata": {},
   "source": [
    "The family of distributions I believe that models the returns distribution well is the Normal distribution."
   ]
  },
  {
   "cell_type": "code",
   "execution_count": 52,
   "metadata": {},
   "outputs": [
    {
     "name": "stdout",
     "output_type": "stream",
     "text": [
      "The location of normal distribution is: 0.44067512124270625\n",
      "The scale of normal distribution: 0.0 \n"
     ]
    }
   ],
   "source": [
    "mle = norm.fit(returns[1])\n",
    "\n",
    "print(f\"The location of normal distribution is: {mle[0]}\\nThe scale of normal distribution: {mle[1]} \")"
   ]
  },
  {
   "cell_type": "code",
   "execution_count": 53,
   "metadata": {},
   "outputs": [
    {
     "data": {
      "text/plain": [
       "<matplotlib.collections.PathCollection at 0x7fdb29d9df40>"
      ]
     },
     "execution_count": 53,
     "metadata": {},
     "output_type": "execute_result"
    },
    {
     "data": {
      "image/png": "[encoded data removed]",
      "text/plain": [
       "<Figure size 432x288 with 1 Axes>"
      ]
     },
     "metadata": {},
     "output_type": "display_data"
    }
   ],
   "source": [
    "plt.hist(returns, bins= 100, density=True, color='r')\n",
    "\n",
    "p_d = norm.pdf(returns)\n",
    "plt.scatter(returns, p_d)"
   ]
  },
  {
   "cell_type": "code",
   "execution_count": 54,
   "metadata": {},
   "outputs": [
    {
     "data": {
      "image/png": "[encoded data removed]",
      "text/plain": [
       "<Figure size 432x288 with 1 Axes>"
      ]
     },
     "metadata": {},
     "output_type": "display_data"
    }
   ],
   "source": [
    "import numpy as np\n",
    "import statsmodels.api as sm\n",
    "import pylab\n",
    "\n",
    "\n",
    "sm.qqplot(returns, line='45')\n",
    "pylab.show()"
   ]
  },
  {
   "cell_type": "markdown",
   "metadata": {},
   "source": [
    "A large portion of the points are below and above the line, which is an indication that the returns is not normally distributed and the extreme values are more likely than the normally distributed ones. What is clearly being exhibited here are long tail's, which correspond to the extreme value's of the daily returns, near 5% and -5%. The 'black swan' theory proposed by Nassim Taleb, with respect to anomalous events, whereby their occurance is still likely despite not being predicted, is a good metaphor for the stock market for which our data is based upon. The majority of data in the world is not normally distributed and assuming a normal distribution can by proxy be an underestimation of outliers and extreme values."
   ]
  }
 ],
 "metadata": {
  "kernelspec": {
   "display_name": "Python 3.9.12 ('base')",
   "language": "python",
   "name": "python3"
  },
  "language_info": {
   "codemirror_mode": {
    "name": "ipython",
    "version": 3
   },
   "file_extension": ".py",
   "mimetype": "text/x-python",
   "name": "python",
   "nbconvert_exporter": "python",
   "pygments_lexer": "ipython3",
   "version": "3.9.12"
  },
  "orig_nbformat": 4,
  "vscode": {
   "interpreter": {
    "hash": "86fb86a74c913095f2328121504a2cb38245fc0b392e5f183237bbf35130b558"
   }
  }
 },
 "nbformat": 4,
 "nbformat_minor": 2
}
