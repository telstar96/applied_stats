{
  "cells": [
    {
      "cell_type": "markdown",
      "metadata": {
        "id": "2gSR2lESqYuX"
      },
      "source": [
        "# Question 1"
      ]
    },
    {
      "cell_type": "code",
      "execution_count": 1,
      "metadata": {
        "id": "fxbzm_r04jSv"
      },
      "outputs": [],
      "source": [
        "import pandas as pd\n",
        "import numpy as np\n",
        "import matplotlib as mpl\n",
        "import matplotlib.pyplot as plt\n",
        "import seaborn as sns\n",
        "import scipy.stats as stats"
      ]
    },
    {
      "cell_type": "code",
      "execution_count": 2,
      "metadata": {
        "id": "llCuiYN95DlQ"
      },
      "outputs": [],
      "source": [
        "url = 'http://data.un.org/_Docs/SYB/CSV/SYB64_246_202110_Population%20Growth,%20Fertility%20and%20Mortality%20Indicators.csv'\n",
        "df = pd.read_csv(url, encoding='ISO-8859-1',header=1)"
      ]
    },
    {
      "cell_type": "markdown",
      "metadata": {
        "id": "Vgd_iVzvqXBK"
      },
      "source": [
        "# Question 2"
      ]
    },
    {
      "cell_type": "code",
      "execution_count": 3,
      "metadata": {
        "colab": {
          "base_uri": "https://localhost:8080/"
        },
        "id": "wcIcstjc57Lw",
        "outputId": "9f0dd766-0a6b-41aa-b674-d64cb2e55aa9"
      },
      "outputs": [
        {
          "name": "stdout",
          "output_type": "stream",
          "text": [
            "<class 'pandas.core.frame.DataFrame'>\n",
            "RangeIndex: 4899 entries, 0 to 4898\n",
            "Data columns (total 7 columns):\n",
            " #   Column               Non-Null Count  Dtype \n",
            "---  ------               --------------  ----- \n",
            " 0   Region/Country/Area  4899 non-null   int64 \n",
            " 1   Unnamed: 1           4899 non-null   object\n",
            " 2   Year                 4899 non-null   int64 \n",
            " 3   Series               4899 non-null   object\n",
            " 4   Value                4899 non-null   object\n",
            " 5   Footnotes            4263 non-null   object\n",
            " 6   Source               4899 non-null   object\n",
            "dtypes: int64(2), object(5)\n",
            "memory usage: 268.0+ KB\n"
          ]
        }
      ],
      "source": [
        "df.info() # 626 entry is where it breaks down by country"
      ]
    },
    {
      "cell_type": "code",
      "execution_count": 4,
      "metadata": {
        "id": "ryuaJ_irFZY8"
      },
      "outputs": [],
      "source": [
        "df = df.rename(columns={\"Region/Country/Area\":\"ID\",\"Unnamed: 1\":\"Country\"})"
      ]
    },
    {
      "cell_type": "code",
      "execution_count": 5,
      "metadata": {
        "colab": {
          "base_uri": "https://localhost:8080/",
          "height": 424
        },
        "id": "6LQOkbPWJkdv",
        "outputId": "0d5ffdec-0cd2-4b26-f499-0776cb16c6b8"
      },
      "outputs": [
        {
          "data": {
            "text/html": [
              "\n",
              "  <div id=\"df-9710e67e-33ad-4add-9e56-70e18bd8ef7e\">\n",
              "    <div class=\"colab-df-container\">\n",
              "      <div>\n",
              "<style scoped>\n",
              "    .dataframe tbody tr th:only-of-type {\n",
              "        vertical-align: middle;\n",
              "    }\n",
              "\n",
              "    .dataframe tbody tr th {\n",
              "        vertical-align: top;\n",
              "    }\n",
              "\n",
              "    .dataframe thead th {\n",
              "        text-align: right;\n",
              "    }\n",
              "</style>\n",
              "<table border=\"1\" class=\"dataframe\">\n",
              "  <thead>\n",
              "    <tr style=\"text-align: right;\">\n",
              "      <th></th>\n",
              "      <th>ID</th>\n",
              "      <th>Country</th>\n",
              "      <th>Year</th>\n",
              "      <th>Series</th>\n",
              "      <th>Value</th>\n",
              "      <th>Footnotes</th>\n",
              "      <th>Source</th>\n",
              "    </tr>\n",
              "  </thead>\n",
              "  <tbody>\n",
              "    <tr>\n",
              "      <th>628</th>\n",
              "      <td>4</td>\n",
              "      <td>Afghanistan</td>\n",
              "      <td>2010</td>\n",
              "      <td>Life expectancy at birth for both sexes (years)</td>\n",
              "      <td>59.6</td>\n",
              "      <td>Data refers to a 5-year period preceding the r...</td>\n",
              "      <td>United Nations Population Division, New York, ...</td>\n",
              "    </tr>\n",
              "    <tr>\n",
              "      <th>635</th>\n",
              "      <td>4</td>\n",
              "      <td>Afghanistan</td>\n",
              "      <td>2015</td>\n",
              "      <td>Life expectancy at birth for both sexes (years)</td>\n",
              "      <td>62.3</td>\n",
              "      <td>Data refers to a 5-year period preceding the r...</td>\n",
              "      <td>United Nations Population Division, New York, ...</td>\n",
              "    </tr>\n",
              "    <tr>\n",
              "      <th>642</th>\n",
              "      <td>4</td>\n",
              "      <td>Afghanistan</td>\n",
              "      <td>2020</td>\n",
              "      <td>Life expectancy at birth for both sexes (years)</td>\n",
              "      <td>64.3</td>\n",
              "      <td>Data refers to a 5-year period preceding the r...</td>\n",
              "      <td>United Nations Population Division, New York, ...</td>\n",
              "    </tr>\n",
              "    <tr>\n",
              "      <th>649</th>\n",
              "      <td>8</td>\n",
              "      <td>Albania</td>\n",
              "      <td>2010</td>\n",
              "      <td>Life expectancy at birth for both sexes (years)</td>\n",
              "      <td>75.6</td>\n",
              "      <td>Data refers to a 5-year period preceding the r...</td>\n",
              "      <td>United Nations Population Division, New York, ...</td>\n",
              "    </tr>\n",
              "    <tr>\n",
              "      <th>656</th>\n",
              "      <td>8</td>\n",
              "      <td>Albania</td>\n",
              "      <td>2015</td>\n",
              "      <td>Life expectancy at birth for both sexes (years)</td>\n",
              "      <td>77.5</td>\n",
              "      <td>Data refers to a 5-year period preceding the r...</td>\n",
              "      <td>United Nations Population Division, New York, ...</td>\n",
              "    </tr>\n",
              "    <tr>\n",
              "      <th>...</th>\n",
              "      <td>...</td>\n",
              "      <td>...</td>\n",
              "      <td>...</td>\n",
              "      <td>...</td>\n",
              "      <td>...</td>\n",
              "      <td>...</td>\n",
              "      <td>...</td>\n",
              "    </tr>\n",
              "    <tr>\n",
              "      <th>4868</th>\n",
              "      <td>894</td>\n",
              "      <td>Zambia</td>\n",
              "      <td>2015</td>\n",
              "      <td>Life expectancy at birth for both sexes (years)</td>\n",
              "      <td>59.3</td>\n",
              "      <td>Data refers to a 5-year period preceding the r...</td>\n",
              "      <td>United Nations Population Division, New York, ...</td>\n",
              "    </tr>\n",
              "    <tr>\n",
              "      <th>4875</th>\n",
              "      <td>894</td>\n",
              "      <td>Zambia</td>\n",
              "      <td>2020</td>\n",
              "      <td>Life expectancy at birth for both sexes (years)</td>\n",
              "      <td>63.3</td>\n",
              "      <td>Data refers to a 5-year period preceding the r...</td>\n",
              "      <td>United Nations Population Division, New York, ...</td>\n",
              "    </tr>\n",
              "    <tr>\n",
              "      <th>4882</th>\n",
              "      <td>716</td>\n",
              "      <td>Zimbabwe</td>\n",
              "      <td>2010</td>\n",
              "      <td>Life expectancy at birth for both sexes (years)</td>\n",
              "      <td>45.0</td>\n",
              "      <td>Data refers to a 5-year period preceding the r...</td>\n",
              "      <td>United Nations Population Division, New York, ...</td>\n",
              "    </tr>\n",
              "    <tr>\n",
              "      <th>4889</th>\n",
              "      <td>716</td>\n",
              "      <td>Zimbabwe</td>\n",
              "      <td>2015</td>\n",
              "      <td>Life expectancy at birth for both sexes (years)</td>\n",
              "      <td>56.7</td>\n",
              "      <td>Data refers to a 5-year period preceding the r...</td>\n",
              "      <td>United Nations Population Division, New York, ...</td>\n",
              "    </tr>\n",
              "    <tr>\n",
              "      <th>4896</th>\n",
              "      <td>716</td>\n",
              "      <td>Zimbabwe</td>\n",
              "      <td>2020</td>\n",
              "      <td>Life expectancy at birth for both sexes (years)</td>\n",
              "      <td>60.8</td>\n",
              "      <td>Data refers to a 5-year period preceding the r...</td>\n",
              "      <td>United Nations Population Division, New York, ...</td>\n",
              "    </tr>\n",
              "  </tbody>\n",
              "</table>\n",
              "<p>603 rows × 7 columns</p>\n",
              "</div>\n",
              "      <button class=\"colab-df-convert\" onclick=\"convertToInteractive('df-9710e67e-33ad-4add-9e56-70e18bd8ef7e')\"\n",
              "              title=\"Convert this dataframe to an interactive table.\"\n",
              "              style=\"display:none;\">\n",
              "        \n",
              "  <svg xmlns=\"http://www.w3.org/2000/svg\" height=\"24px\"viewBox=\"0 0 24 24\"\n",
              "       width=\"24px\">\n",
              "    <path d=\"M0 0h24v24H0V0z\" fill=\"none\"/>\n",
              "    <path d=\"M18.56 5.44l.94 2.06.94-2.06 2.06-.94-2.06-.94-.94-2.06-.94 2.06-2.06.94zm-11 1L8.5 8.5l.94-2.06 2.06-.94-2.06-.94L8.5 2.5l-.94 2.06-2.06.94zm10 10l.94 2.06.94-2.06 2.06-.94-2.06-.94-.94-2.06-.94 2.06-2.06.94z\"/><path d=\"M17.41 7.96l-1.37-1.37c-.4-.4-.92-.59-1.43-.59-.52 0-1.04.2-1.43.59L10.3 9.45l-7.72 7.72c-.78.78-.78 2.05 0 2.83L4 21.41c.39.39.9.59 1.41.59.51 0 1.02-.2 1.41-.59l7.78-7.78 2.81-2.81c.8-.78.8-2.07 0-2.86zM5.41 20L4 18.59l7.72-7.72 1.47 1.35L5.41 20z\"/>\n",
              "  </svg>\n",
              "      </button>\n",
              "      \n",
              "  <style>\n",
              "    .colab-df-container {\n",
              "      display:flex;\n",
              "      flex-wrap:wrap;\n",
              "      gap: 12px;\n",
              "    }\n",
              "\n",
              "    .colab-df-convert {\n",
              "      background-color: #E8F0FE;\n",
              "      border: none;\n",
              "      border-radius: 50%;\n",
              "      cursor: pointer;\n",
              "      display: none;\n",
              "      fill: #1967D2;\n",
              "      height: 32px;\n",
              "      padding: 0 0 0 0;\n",
              "      width: 32px;\n",
              "    }\n",
              "\n",
              "    .colab-df-convert:hover {\n",
              "      background-color: #E2EBFA;\n",
              "      box-shadow: 0px 1px 2px rgba(60, 64, 67, 0.3), 0px 1px 3px 1px rgba(60, 64, 67, 0.15);\n",
              "      fill: #174EA6;\n",
              "    }\n",
              "\n",
              "    [theme=dark] .colab-df-convert {\n",
              "      background-color: #3B4455;\n",
              "      fill: #D2E3FC;\n",
              "    }\n",
              "\n",
              "    [theme=dark] .colab-df-convert:hover {\n",
              "      background-color: #434B5C;\n",
              "      box-shadow: 0px 1px 3px 1px rgba(0, 0, 0, 0.15);\n",
              "      filter: drop-shadow(0px 1px 2px rgba(0, 0, 0, 0.3));\n",
              "      fill: #FFFFFF;\n",
              "    }\n",
              "  </style>\n",
              "\n",
              "      <script>\n",
              "        const buttonEl =\n",
              "          document.querySelector('#df-9710e67e-33ad-4add-9e56-70e18bd8ef7e button.colab-df-convert');\n",
              "        buttonEl.style.display =\n",
              "          google.colab.kernel.accessAllowed ? 'block' : 'none';\n",
              "\n",
              "        async function convertToInteractive(key) {\n",
              "          const element = document.querySelector('#df-9710e67e-33ad-4add-9e56-70e18bd8ef7e');\n",
              "          const dataTable =\n",
              "            await google.colab.kernel.invokeFunction('convertToInteractive',\n",
              "                                                     [key], {});\n",
              "          if (!dataTable) return;\n",
              "\n",
              "          const docLinkHtml = 'Like what you see? Visit the ' +\n",
              "            '<a target=\"_blank\" href=https://colab.research.google.com/notebooks/data_table.ipynb>data table notebook</a>'\n",
              "            + ' to learn more about interactive tables.';\n",
              "          element.innerHTML = '';\n",
              "          dataTable['output_type'] = 'display_data';\n",
              "          await google.colab.output.renderOutput(dataTable, element);\n",
              "          const docLink = document.createElement('div');\n",
              "          docLink.innerHTML = docLinkHtml;\n",
              "          element.appendChild(docLink);\n",
              "        }\n",
              "      </script>\n",
              "    </div>\n",
              "  </div>\n",
              "  "
            ],
            "text/plain": [
              "       ID      Country  Year                                           Series  \\\n",
              "628     4  Afghanistan  2010  Life expectancy at birth for both sexes (years)   \n",
              "635     4  Afghanistan  2015  Life expectancy at birth for both sexes (years)   \n",
              "642     4  Afghanistan  2020  Life expectancy at birth for both sexes (years)   \n",
              "649     8      Albania  2010  Life expectancy at birth for both sexes (years)   \n",
              "656     8      Albania  2015  Life expectancy at birth for both sexes (years)   \n",
              "...   ...          ...   ...                                              ...   \n",
              "4868  894       Zambia  2015  Life expectancy at birth for both sexes (years)   \n",
              "4875  894       Zambia  2020  Life expectancy at birth for both sexes (years)   \n",
              "4882  716     Zimbabwe  2010  Life expectancy at birth for both sexes (years)   \n",
              "4889  716     Zimbabwe  2015  Life expectancy at birth for both sexes (years)   \n",
              "4896  716     Zimbabwe  2020  Life expectancy at birth for both sexes (years)   \n",
              "\n",
              "     Value                                          Footnotes  \\\n",
              "628   59.6  Data refers to a 5-year period preceding the r...   \n",
              "635   62.3  Data refers to a 5-year period preceding the r...   \n",
              "642   64.3  Data refers to a 5-year period preceding the r...   \n",
              "649   75.6  Data refers to a 5-year period preceding the r...   \n",
              "656   77.5  Data refers to a 5-year period preceding the r...   \n",
              "...    ...                                                ...   \n",
              "4868  59.3  Data refers to a 5-year period preceding the r...   \n",
              "4875  63.3  Data refers to a 5-year period preceding the r...   \n",
              "4882  45.0  Data refers to a 5-year period preceding the r...   \n",
              "4889  56.7  Data refers to a 5-year period preceding the r...   \n",
              "4896  60.8  Data refers to a 5-year period preceding the r...   \n",
              "\n",
              "                                                 Source  \n",
              "628   United Nations Population Division, New York, ...  \n",
              "635   United Nations Population Division, New York, ...  \n",
              "642   United Nations Population Division, New York, ...  \n",
              "649   United Nations Population Division, New York, ...  \n",
              "656   United Nations Population Division, New York, ...  \n",
              "...                                                 ...  \n",
              "4868  United Nations Population Division, New York, ...  \n",
              "4875  United Nations Population Division, New York, ...  \n",
              "4882  United Nations Population Division, New York, ...  \n",
              "4889  United Nations Population Division, New York, ...  \n",
              "4896  United Nations Population Division, New York, ...  \n",
              "\n",
              "[603 rows x 7 columns]"
            ]
          },
          "execution_count": 5,
          "metadata": {},
          "output_type": "execute_result"
        }
      ],
      "source": [
        "df_countries = df.loc[df.index[625:4898]] # selecting the rows that are countries\n",
        "df_countries = df_countries.loc[df_countries['Series'] == 'Life expectancy at birth for both sexes (years)'] # selecting rows that value is 'Life expectancy at birth for both sexes (years)'\n",
        "df_countries"
      ]
    },
    {
      "cell_type": "code",
      "execution_count": 6,
      "metadata": {
        "colab": {
          "base_uri": "https://localhost:8080/"
        },
        "id": "EncRSrRkKGVW",
        "outputId": "fbfbd32a-437a-4f21-8906-578b416e3c1b"
      },
      "outputs": [
        {
          "name": "stdout",
          "output_type": "stream",
          "text": [
            "Size N of dataset: 603\n"
          ]
        }
      ],
      "source": [
        "arr_countries = df_countries.to_numpy() # Changing dataframe to an array\n",
        "\n",
        "print(f\"Size N of dataset: {arr_countries.shape[0]}\")"
      ]
    },
    {
      "cell_type": "markdown",
      "metadata": {
        "id": "P2zMVtLtqTC1"
      },
      "source": [
        "# Question 3"
      ]
    },
    {
      "cell_type": "code",
      "execution_count": 7,
      "metadata": {
        "colab": {
          "base_uri": "https://localhost:8080/"
        },
        "id": "m1XACDb_w3-C",
        "outputId": "cbe201c5-af26-4632-d7f4-87a7d1c1f511"
      },
      "outputs": [
        {
          "data": {
            "text/plain": [
              "['59.6',\n",
              " '62.3',\n",
              " '64.3',\n",
              " '75.6',\n",
              " '77.5',\n",
              " '78.4',\n",
              " '74.2',\n",
              " '75.5',\n",
              " '76.6',\n",
              " '52.7',\n",
              " '57.7',\n",
              " '60.5',\n",
              " '76.1',\n",
              " '76.8',\n",
              " '74.9',\n",
              " '75.7',\n",
              " '76.4',\n",
              " '72.7',\n",
              " '74.0',\n",
              " '74.7',\n",
              " '75.4',\n",
              " '81.5',\n",
              " '82.4',\n",
              " '83.2',\n",
              " '80.1',\n",
              " '81.0',\n",
              " '81.4',\n",
              " '70.1',\n",
              " '71.6',\n",
              " '72.8',\n",
              " '72.0',\n",
              " '72.5',\n",
              " '73.7',\n",
              " '77.1',\n",
              " '68.8',\n",
              " '70.8',\n",
              " '72.2',\n",
              " '78.1',\n",
              " '78.6',\n",
              " '79.0',\n",
              " '69.3',\n",
              " '72.4',\n",
              " '74.5',\n",
              " '79.6',\n",
              " '80.5',\n",
              " '70.7',\n",
              " '73.4',\n",
              " '74.4',\n",
              " '58.6',\n",
              " '59.9',\n",
              " '61.3',\n",
              " '67.0',\n",
              " '69.4',\n",
              " '71.3',\n",
              " '66.6',\n",
              " '71.1',\n",
              " '76.5',\n",
              " '77.2',\n",
              " '55.9',\n",
              " '64.4',\n",
              " '69.1',\n",
              " '74.3',\n",
              " '75.0',\n",
              " '73.1',\n",
              " '74.8',\n",
              " '55.3',\n",
              " '58.7',\n",
              " '60.9',\n",
              " '58.9',\n",
              " '61.0',\n",
              " '70.6',\n",
              " '71.5',\n",
              " '65.1',\n",
              " '67.6',\n",
              " '54.0',\n",
              " '56.3',\n",
              " '58.8',\n",
              " '80.8',\n",
              " '81.8',\n",
              " '82.2',\n",
              " '46.0',\n",
              " '48.9',\n",
              " '49.5',\n",
              " '52.3',\n",
              " '53.8',\n",
              " '80.9',\n",
              " '82.0',\n",
              " '82.8',\n",
              " '78.2',\n",
              " '79.3',\n",
              " '80.0',\n",
              " '75.1',\n",
              " '83.4',\n",
              " '84.6',\n",
              " '82.1',\n",
              " '83.3',\n",
              " '84.0',\n",
              " '76.0',\n",
              " '77.0',\n",
              " '62.8',\n",
              " '64.0',\n",
              " '58.2',\n",
              " '61.7',\n",
              " '64.2',\n",
              " '79.2',\n",
              " '51.4',\n",
              " '54.6',\n",
              " '57.2',\n",
              " '77.4',\n",
              " '78.5',\n",
              " '78.7',\n",
              " '77.8',\n",
              " '79.9',\n",
              " '80.7',\n",
              " '79.1',\n",
              " '68.4',\n",
              " '55.5',\n",
              " '58.1',\n",
              " '60.2',\n",
              " '59.1',\n",
              " '61.6',\n",
              " '66.5',\n",
              " '71.4',\n",
              " '72.6',\n",
              " '73.8',\n",
              " '74.6',\n",
              " '76.7',\n",
              " '69.9',\n",
              " '71.7',\n",
              " '71.8',\n",
              " '73.0',\n",
              " '54.9',\n",
              " '56.5',\n",
              " '60.7',\n",
              " '63.4',\n",
              " '65.7',\n",
              " '43.8',\n",
              " '50.7',\n",
              " '59.3',\n",
              " '63.7',\n",
              " '66.0',\n",
              " '66.4',\n",
              " '66.9',\n",
              " '67.3',\n",
              " '79.5',\n",
              " '81.6',\n",
              " '81.9',\n",
              " '82.5',\n",
              " '78.0',\n",
              " '79.7',\n",
              " '63.3',\n",
              " '66.1',\n",
              " '60.3',\n",
              " '61.5',\n",
              " '72.3',\n",
              " '73.5',\n",
              " '80.4',\n",
              " '81.1',\n",
              " '60.1',\n",
              " '61.8',\n",
              " '79.4',\n",
              " '80.6',\n",
              " '79.8',\n",
              " '70.5',\n",
              " '73.9',\n",
              " '55.6',\n",
              " '58.0',\n",
              " '53.3',\n",
              " '57.8',\n",
              " '67.4',\n",
              " '68.7',\n",
              " '69.7',\n",
              " '59.7',\n",
              " '61.4',\n",
              " '63.5',\n",
              " '75.3',\n",
              " '65.5',\n",
              " '67.8',\n",
              " '68.3',\n",
              " '70.0',\n",
              " '76.3',\n",
              " '68.0',\n",
              " '70.4',\n",
              " '82.7',\n",
              " '84.4',\n",
              " '73.2',\n",
              " '58.5',\n",
              " '62.9',\n",
              " '66.2',\n",
              " '65.0',\n",
              " '67.5',\n",
              " '70.3',\n",
              " '71.2',\n",
              " '63.0',\n",
              " '74.1',\n",
              " '78.8',\n",
              " '43.1',\n",
              " '48.2',\n",
              " '53.5',\n",
              " '63.6',\n",
              " '71.9',\n",
              " '62.2',\n",
              " '64.5',\n",
              " '51.3',\n",
              " '75.9',\n",
              " '56.2',\n",
              " '80.3',\n",
              " '82.3',\n",
              " '81.2',\n",
              " '61.9',\n",
              " '63.2',\n",
              " '64.6',\n",
              " '75.2',\n",
              " '67.7',\n",
              " '68.5',\n",
              " '69.5',\n",
              " '51.1',\n",
              " '54.2',\n",
              " '62.4',\n",
              " '64.7',\n",
              " '66.8',\n",
              " '53.0',\n",
              " '60.4',\n",
              " '68.6',\n",
              " '80.2',\n",
              " '81.3',\n",
              " '77.3',\n",
              " '59.2',\n",
              " '49.8',\n",
              " '52.0',\n",
              " '76.2',\n",
              " '62.7',\n",
              " '72.1',\n",
              " '70.2',\n",
              " '71.0',\n",
              " '77.9',\n",
              " '75.8',\n",
              " '67.1',\n",
              " '60.0',\n",
              " '65.8',\n",
              " '62.5',\n",
              " '73.3',\n",
              " '47.0',\n",
              " '54.1',\n",
              " '53.2',\n",
              " '56.9',\n",
              " '54.7',\n",
              " '56.1',\n",
              " '57.4',\n",
              " '63.8',\n",
              " '64.9',\n",
              " '69.8',\n",
              " '70.9',\n",
              " '82.6',\n",
              " '83.6',\n",
              " '69.2',\n",
              " '55.8',\n",
              " '65.9',\n",
              " '54.4',\n",
              " '59.5',\n",
              " '67.9',\n",
              " '77.7',\n",
              " '64.8',\n",
              " '78.9',\n",
              " '51.8',\n",
              " '45.0',\n",
              " '56.7',\n",
              " '60.8']"
            ]
          },
          "execution_count": 7,
          "metadata": {},
          "output_type": "execute_result"
        }
      ],
      "source": [
        "df_countries.Value.unique().tolist()"
      ]
    },
    {
      "cell_type": "code",
      "execution_count": 8,
      "metadata": {
        "colab": {
          "base_uri": "https://localhost:8080/"
        },
        "id": "UctoVGwjLuqS",
        "outputId": "62235874-2e8d-4e96-c4b3-fe970ad19564"
      },
      "outputs": [
        {
          "data": {
            "text/plain": [
              "count      603\n",
              "unique     268\n",
              "top       75.0\n",
              "freq         8\n",
              "Name: Value, dtype: object"
            ]
          },
          "execution_count": 8,
          "metadata": {},
          "output_type": "execute_result"
        }
      ],
      "source": [
        "df_countries.Value.describe() \n",
        "\n",
        "# Value column is as object. This is incorrect as there are numerical values we need to extract. Therefore, we need to convert these into floats.\n",
        "# We convert to floats and not integers because we're dealing with decimals, as opposed to whole numbers."
      ]
    },
    {
      "cell_type": "code",
      "execution_count": 9,
      "metadata": {
        "id": "EPneGPcnxAap"
      },
      "outputs": [],
      "source": [
        "df_countries['Value'] = df_countries['Value'].astype('float')"
      ]
    },
    {
      "cell_type": "code",
      "execution_count": 10,
      "metadata": {
        "colab": {
          "base_uri": "https://localhost:8080/"
        },
        "id": "0firM66Ix_dM",
        "outputId": "5bbc54a6-3b46-4cda-d641-b5892e8dc402"
      },
      "outputs": [
        {
          "data": {
            "text/plain": [
              "count    603.000000\n",
              "mean      71.182753\n",
              "std        8.553886\n",
              "min       43.100000\n",
              "25%       66.050000\n",
              "50%       73.100000\n",
              "75%       77.700000\n",
              "max       84.600000\n",
              "Name: Value, dtype: float64"
            ]
          },
          "execution_count": 10,
          "metadata": {},
          "output_type": "execute_result"
        }
      ],
      "source": [
        "df_countries['Value'].describe()"
      ]
    },
    {
      "cell_type": "code",
      "execution_count": 11,
      "metadata": {
        "colab": {
          "base_uri": "https://localhost:8080/",
          "height": 265
        },
        "id": "ZjSBhD_pyjVI",
        "outputId": "50a47a03-e7ec-48a9-bf2b-2989b5b6e0fc"
      },
      "outputs": [
        {
          "data": {
            "image/png": "[encoded data removed]",
            "text/plain": [
              "<Figure size 432x288 with 1 Axes>"
            ]
          },
          "metadata": {
            "needs_background": "light"
          },
          "output_type": "display_data"
        }
      ],
      "source": [
        "Mean=df_countries['Value'].mean()\n",
        "Median=df_countries['Value'].median()\n",
        "v_lines = [Mean,Median]\n",
        "names = [\"mean\", \"median\"]\n",
        "colors = ['yellow', 'blue']\n",
        "\n",
        "plt.hist(df_countries['Value'], 10)\n",
        "for v_lines, name, color in zip(v_lines, names, colors):\n",
        "    plt.axvline(x=v_lines, linestyle='--', linewidth=2.5, label='{0} at {1}'.format(name, v_lines), c=color)\n",
        "plt.legend();"
      ]
    },
    {
      "cell_type": "markdown",
      "metadata": {
        "id": "qUYJZbwUNTMe"
      },
      "source": [
        "The median is greater than the mean. Therefore the distribution of this dataset is negatively skewed."
      ]
    },
    {
      "cell_type": "markdown",
      "metadata": {
        "id": "ovHO0CieIiKv"
      },
      "source": [
        "# Question 4"
      ]
    },
    {
      "cell_type": "code",
      "execution_count": 12,
      "metadata": {
        "colab": {
          "base_uri": "https://localhost:8080/"
        },
        "id": "ihvvVaSUI4pP",
        "outputId": "fb236be5-3ba1-435a-80f9-f5f69594f150"
      },
      "outputs": [
        {
          "name": "stdout",
          "output_type": "stream",
          "text": [
            "Range: 41.49999999999999\n",
            "Standard Deviation: 8.553886318304821\n",
            "IQR: 11.650000000000006\n"
          ]
        }
      ],
      "source": [
        "max = df_countries['Value'].max()\n",
        "min = df_countries['Value'].min()\n",
        "\n",
        "range = max - min\n",
        "\n",
        "std = df_countries['Value'].std()\n",
        "\n",
        "q3,q1 = np.percentile(df_countries['Value'],[75,25])\n",
        "\n",
        "iqr = q3 - q1\n",
        "\n",
        "print(f\"Range: {range}\")\n",
        "print(f\"Standard Deviation: {std}\")\n",
        "print(f\"IQR: {iqr}\")"
      ]
    },
    {
      "cell_type": "code",
      "execution_count": 13,
      "metadata": {
        "colab": {
          "base_uri": "https://localhost:8080/",
          "height": 265
        },
        "id": "B3BH86lTTr1U",
        "outputId": "7a805e46-26ba-4d02-fe83-9ddb9a3a5042"
      },
      "outputs": [
        {
          "data": {
            "image/png": "[encoded data removed]",
            "text/plain": [
              "<Figure size 432x288 with 1 Axes>"
            ]
          },
          "metadata": {
            "needs_background": "light"
          },
          "output_type": "display_data"
        }
      ],
      "source": [
        "v_lines1 = [q1,q3,(Mean+std),(Mean-std)]\n",
        "names1 = [\"Q1\", \"Q3\",\"Mean+Std\",\"Mean-Std\"]\n",
        "colors1 = ['green', 'blue', 'black','yellow']\n",
        "\n",
        "plt.hist(df_countries['Value'], 10)\n",
        "for v_lines1, name, color in zip(v_lines1, names1, colors1):\n",
        "    plt.axvline(x=v_lines1, linestyle='--', linewidth=2.5, label='{0} at {1}'.format(name, v_lines1), c=color)\n",
        "plt.legend();"
      ]
    },
    {
      "cell_type": "markdown",
      "metadata": {
        "id": "8RRre6Y1Vqh2"
      },
      "source": [
        "#Question 5\n",
        "So there are some important things to consider first:\n",
        "\n",
        "1) Life expentancy (i.e. age) is a non negative value. Whilst intuition tells us that no one will be 200 or 300 years old, we know for certain that no one can be less than 0 years old.\n",
        "Furthermore, Life expectancy can take an infinite number of values within the range of lets say 0-100. Values like 82.1 and 82.3 are both distinct values and this can apply to even greater degrees of decimal places. \n",
        "\n",
        "2) Our distribution is negatively skewed.\n",
        "\n",
        "3) There are a plethora of factors that contribute to life expentancy (i.e. genetics, socio-economic, gender etc).\n",
        "\n",
        "Considering all these factors, firstly I would say that the class most suitable for modelling life expectancy would be countinous supported by real numbers.\n",
        "\n",
        "Secondly, I'd say that the Normal distribution would model life expectancy best. I say this because given the numerous factors that influence life expentancy, given a large enough sample size, the distribution of the mean will most likely follow a normal one.\n",
        "\n"
      ]
    },
    {
      "cell_type": "markdown",
      "metadata": {
        "id": "QEkAPARt2TZY"
      },
      "source": [
        "For Normal"
      ]
    },
    {
      "cell_type": "code",
      "execution_count": null,
      "metadata": {
        "id": "zqXJCx3_2VJI"
      },
      "outputs": [],
      "source": [
        "from scipy.stats import norm\n",
        "mu, sigma = [Mean], [std]\n",
        "\n",
        "\n",
        "# generate random numbers and plot histogram\n",
        "r = norm.rvs(mu,sigma,300)\n",
        "counts, bins = np.histogram(r,10)\n",
        "plt.hist(r, bins)\n",
        "\n",
        "mean = norm.mean(mu)\n",
        "median = norm.median(Median)\n",
        "sample_mean = np.mean(r)\n",
        "sample_median = np.median(r)\n",
        "sample_q3,sample_q1 = np.percentile(r,[75,25])\n",
        "\n",
        "print(f\"Mean: {mean}\")\n",
        "print(f\"Sample Mean: {sample_mean}\")\n",
        "print(f\"Median: {median}\")\n",
        "print(f\"Sample Median: {sample_median}\")\n",
        "\n",
        "plt.axvline(x=sample_mean, color='yellow', label='sample mean',linestyle='--')\n",
        "plt.axvline(x=sample_median, color='blue', label='sample median',linestyle='--')\n",
        "plt.axvline(x=sample_q3, color='red', label='sample q3',linestyle='--')\n",
        "plt.axvline(x=sample_q1, color='black', label='sample q1',linestyle='--')\n",
        "plt.legend()\n",
        "plt.show()"
      ]
    }
  ],
  "metadata": {
    "colab": {
      "collapsed_sections": [],
      "provenance": []
    },
    "kernelspec": {
      "display_name": "Python 3",
      "name": "python3"
    },
    "language_info": {
      "name": "python"
    }
  },
  "nbformat": 4,
  "nbformat_minor": 0
}
